{
 "cells": [
  {
   "cell_type": "code",
   "execution_count": 67,
   "outputs": [],
   "source": [
    "#Imports\n",
    "import pandas as pd\n"
   ],
   "metadata": {
    "collapsed": false,
    "ExecuteTime": {
     "end_time": "2023-11-01T10:58:10.338555Z",
     "start_time": "2023-11-01T10:58:10.327476500Z"
    }
   },
   "id": "bdf63d24d2846e5"
  },
  {
   "cell_type": "code",
   "execution_count": 68,
   "outputs": [
    {
     "name": "stderr",
     "output_type": "stream",
     "text": [
      "C:\\Users\\Gaston\\AppData\\Local\\Temp\\ipykernel_41448\\2710635971.py:2: DtypeWarning: Columns (12) have mixed types. Specify dtype option on import or set low_memory=False.\n",
      "  df_copy = pd.read_csv('data.csv')\n"
     ]
    },
    {
     "data": {
      "text/plain": "                                     nom_amenageur  siren_amenageur  \\\n0                                Hotel saint Alban      379629447.0   \n1      Hôtel Restaurant Campanile Nogent-sur-Marne      349009423.0   \n2                          Résidence Les Calanques      812328128.0   \n3                                           1PACTE      803719277.0   \n4                                           111442      320342975.0   \n...                                            ...              ...   \n55641                                    TV MOSAIK      483048492.0   \n55642                               OPTEOR IMMOTIC      552008914.0   \n55643                                  D2 FINANCES      801177528.0   \n55644                                    WeeCharge      902305556.0   \n55645                                      Aubélec      301213476.0   \n\n                         contact_amenageur nom_operateur  \\\n0               claudel.philippe@gmail.com   ELECTROMAPS   \n1      manager.nogentsurmarne@campanile.fr   ELECTROMAPS   \n2        albarry@residence-lescalanques.fr   ELECTROMAPS   \n3                        m.levy@1pacte.com   ELECTROMAPS   \n4                        alain@daubier.com   Electromaps   \n...                                    ...           ...   \n55641            contact@mosaik-cristal.tv     FRESHMILE   \n55642   seikou.diakho@vinci-facilities.com     FRESHMILE   \n55643         laurent.specht@volta-sas.com     FRESHMILE   \n55644                   hello@weecharge.fr     WeeCharge   \n55645                   l.romei@aubelec.fr    Festilight   \n\n                    contact_operateur telephone_operateur  \\\n0               oscar@electromaps.com      34 931.574.967   \n1               oscar@electromaps.com      34 931.574.967   \n2               oscar@electromaps.com      34 931.574.967   \n3               oscar@electromaps.com      34 931.574.967   \n4              ismael@electromaps.com    34 931 574 967     \n...                               ...                 ...   \n55641               web@freshmile.com          0369246732   \n55642      exploitation@freshmile.com          0368781435   \n55643      exploitation@freshmile.com      03 68 78 14 35   \n55644              hello@weecharge.fr          0972649769   \n55645  didier.maroilley@festilight.fr          0325832300   \n\n                                      nom_enseigne id_station_itinerance  \\\n0                                Hotel saint alban        FR000011062174   \n1      Hôtel Restaurant Campanile Nogent-sur-Marne        FR000012292701   \n2                          Résidence les calanques        FR000012308585   \n3                                           1PACTE        FR000012616553   \n4                                  SAS La Tuiliere        FR000028067822   \n...                                            ...                   ...   \n55641                            TV MOSAIK CRISTAL          Non concerné   \n55642                         VINCI OPTEOR IMMOTIC          Non concerné   \n55643                                    FRESHMILE          Non concerné   \n55644                                    WeeCharge          Non concerné   \n55645                                   Festilight          Non concerné   \n\n                            id_station_local  \\\n0       02af2893-256f-4124-8d58-c728dc38f720   \n1       02af2893-256f-4124-8d58-c728dc38f720   \n2       02af2893-256f-4124-8d58-c728dc38f720   \n3       02af2893-256f-4124-8d58-c728dc38f720   \n4       9d048374-0445-11ee-be56-0242ac120002   \n...                                      ...   \n55641   ec4b9d5d-0bf2-4aa4-b255-72308a3d4da4   \n55642   74547d48-2597-4024-a46c-2399260c18f4   \n55643   5aa39699-a74b-42e3-90ce-7167a52af169   \n55644   d3c00913-8774-4df3-8c07-97b5c596db39   \n55645                       FRWBCERCG0C2117D   \n\n                                       nom_station  ...  \\\n0                                Hotel saint alban  ...   \n1      Hôtel Restaurant Campanile Nogent-sur-Marne  ...   \n2                          Résidence les calanques  ...   \n3                                           1PACTE  ...   \n4                                   Carry-le-Rouet  ...   \n...                                            ...  ...   \n55641                            TV MOSAIK CRISTAL  ...   \n55642                         VINCI OPTEOR IMMOTIC  ...   \n55643                                   D2 FINANCE  ...   \n55644                         Montaigut Le Boulval  ...   \n55645                           Festilight 22D Bur  ...   \n\n            datagouv_dataset_id                  datagouv_resource_id  \\\n0      62bd5954ef0e46eebfdb630a  43c0b54f-ae06-4ee4-a144-a4414717b805   \n1      62bd5954ef0e46eebfdb630a  43c0b54f-ae06-4ee4-a144-a4414717b805   \n2      62bd5954ef0e46eebfdb630a  43c0b54f-ae06-4ee4-a144-a4414717b805   \n3      62bd5954ef0e46eebfdb630a  43c0b54f-ae06-4ee4-a144-a4414717b805   \n4      647f1c6c5021d9b17af386e0  6cd2205b-5de7-4458-af56-7305e3170492   \n...                         ...                                   ...   \n55641  639056d1c202fa02eaa1ff55  b907dd9b-de1d-4cf0-a4b7-79d521e42dfc   \n55642  632a5dfb63ac73f1a8a1f2b6  44831653-abf4-4dbe-85be-5f5419575592   \n55643  64245ebd6e4baad70489ac7d  d3e00e51-4f9d-4b9a-9d50-137fffa32221   \n55644  62b8fe4f19cc3f5741443bfa  a7b94bdd-3ba7-430f-bccb-0e33d93c1ff2   \n55645  64799a4b25823abc2bd21f33  fb32b4a8-588f-408a-93d9-1e08e58570f9   \n\n          datagouv_organization_or_owner     created_at  \\\n0                                  maneo  6/30/22 12:05   \n1                                  maneo  6/30/22 12:05   \n2                                  maneo  6/30/22 12:05   \n3                                  maneo  6/30/22 12:05   \n4                                  maneo   6/6/23 13:45   \n...                                  ...            ...   \n55641                          tv-mosaik  12/7/22 11:03   \n55642  vinci-facilities-travaux-associes  10/4/22 19:45   \n55643                          volta-sas  3/29/23 19:52   \n55644                          weecharge   6/27/22 4:48   \n55645                          wellborne  6/13/23 17:01   \n\n       consolidated_longitude consolidated_latitude consolidated_code_postal  \\\n0                    3.407609             43.419591                  34120.0   \n1                    2.493570             48.832678                  94130.0   \n2                    8.657888             41.908579                      NaN   \n3                    5.476711             43.476584                  13120.0   \n4                    5.143766             43.329200                  13620.0   \n...                       ...                   ...                      ...   \n55641                7.083001             49.118010                  57200.0   \n55642                2.210000             48.910000                  92000.0   \n55643                4.970000             45.730000                  69680.0   \n55644                2.806620             46.181509                  63700.0   \n55645                4.134836             48.300582                  10410.0   \n\n          consolidated_commune consolidated_is_lon_lat_correct  \\\n0                      Pézenas                           False   \n1             Nogent-sur-Marne                            True   \n2                      Ajaccio                            True   \n3                     Gardanne                            True   \n4               Carry-le-Rouet                            True   \n...                        ...                             ...   \n55641            Sarreguemines                            True   \n55642                 Nanterre                            True   \n55643                 Chassieu                            True   \n55644  Montaigut-en-Combraille                            True   \n55645              Villechétif                            True   \n\n      consolidated_is_code_insee_verified  \n0                                    True  \n1                                    True  \n2                                    True  \n3                                    True  \n4                                    True  \n...                                   ...  \n55641                                True  \n55642                                True  \n55643                                True  \n55644                                True  \n55645                                True  \n\n[55646 rows x 51 columns]",
      "text/html": "<div>\n<style scoped>\n    .dataframe tbody tr th:only-of-type {\n        vertical-align: middle;\n    }\n\n    .dataframe tbody tr th {\n        vertical-align: top;\n    }\n\n    .dataframe thead th {\n        text-align: right;\n    }\n</style>\n<table border=\"1\" class=\"dataframe\">\n  <thead>\n    <tr style=\"text-align: right;\">\n      <th></th>\n      <th>nom_amenageur</th>\n      <th>siren_amenageur</th>\n      <th>contact_amenageur</th>\n      <th>nom_operateur</th>\n      <th>contact_operateur</th>\n      <th>telephone_operateur</th>\n      <th>nom_enseigne</th>\n      <th>id_station_itinerance</th>\n      <th>id_station_local</th>\n      <th>nom_station</th>\n      <th>...</th>\n      <th>datagouv_dataset_id</th>\n      <th>datagouv_resource_id</th>\n      <th>datagouv_organization_or_owner</th>\n      <th>created_at</th>\n      <th>consolidated_longitude</th>\n      <th>consolidated_latitude</th>\n      <th>consolidated_code_postal</th>\n      <th>consolidated_commune</th>\n      <th>consolidated_is_lon_lat_correct</th>\n      <th>consolidated_is_code_insee_verified</th>\n    </tr>\n  </thead>\n  <tbody>\n    <tr>\n      <th>0</th>\n      <td>Hotel saint Alban</td>\n      <td>379629447.0</td>\n      <td>claudel.philippe@gmail.com</td>\n      <td>ELECTROMAPS</td>\n      <td>oscar@electromaps.com</td>\n      <td>34 931.574.967</td>\n      <td>Hotel saint alban</td>\n      <td>FR000011062174</td>\n      <td>02af2893-256f-4124-8d58-c728dc38f720</td>\n      <td>Hotel saint alban</td>\n      <td>...</td>\n      <td>62bd5954ef0e46eebfdb630a</td>\n      <td>43c0b54f-ae06-4ee4-a144-a4414717b805</td>\n      <td>maneo</td>\n      <td>6/30/22 12:05</td>\n      <td>3.407609</td>\n      <td>43.419591</td>\n      <td>34120.0</td>\n      <td>Pézenas</td>\n      <td>False</td>\n      <td>True</td>\n    </tr>\n    <tr>\n      <th>1</th>\n      <td>Hôtel Restaurant Campanile Nogent-sur-Marne</td>\n      <td>349009423.0</td>\n      <td>manager.nogentsurmarne@campanile.fr</td>\n      <td>ELECTROMAPS</td>\n      <td>oscar@electromaps.com</td>\n      <td>34 931.574.967</td>\n      <td>Hôtel Restaurant Campanile Nogent-sur-Marne</td>\n      <td>FR000012292701</td>\n      <td>02af2893-256f-4124-8d58-c728dc38f720</td>\n      <td>Hôtel Restaurant Campanile Nogent-sur-Marne</td>\n      <td>...</td>\n      <td>62bd5954ef0e46eebfdb630a</td>\n      <td>43c0b54f-ae06-4ee4-a144-a4414717b805</td>\n      <td>maneo</td>\n      <td>6/30/22 12:05</td>\n      <td>2.493570</td>\n      <td>48.832678</td>\n      <td>94130.0</td>\n      <td>Nogent-sur-Marne</td>\n      <td>True</td>\n      <td>True</td>\n    </tr>\n    <tr>\n      <th>2</th>\n      <td>Résidence Les Calanques</td>\n      <td>812328128.0</td>\n      <td>albarry@residence-lescalanques.fr</td>\n      <td>ELECTROMAPS</td>\n      <td>oscar@electromaps.com</td>\n      <td>34 931.574.967</td>\n      <td>Résidence les calanques</td>\n      <td>FR000012308585</td>\n      <td>02af2893-256f-4124-8d58-c728dc38f720</td>\n      <td>Résidence les calanques</td>\n      <td>...</td>\n      <td>62bd5954ef0e46eebfdb630a</td>\n      <td>43c0b54f-ae06-4ee4-a144-a4414717b805</td>\n      <td>maneo</td>\n      <td>6/30/22 12:05</td>\n      <td>8.657888</td>\n      <td>41.908579</td>\n      <td>NaN</td>\n      <td>Ajaccio</td>\n      <td>True</td>\n      <td>True</td>\n    </tr>\n    <tr>\n      <th>3</th>\n      <td>1PACTE</td>\n      <td>803719277.0</td>\n      <td>m.levy@1pacte.com</td>\n      <td>ELECTROMAPS</td>\n      <td>oscar@electromaps.com</td>\n      <td>34 931.574.967</td>\n      <td>1PACTE</td>\n      <td>FR000012616553</td>\n      <td>02af2893-256f-4124-8d58-c728dc38f720</td>\n      <td>1PACTE</td>\n      <td>...</td>\n      <td>62bd5954ef0e46eebfdb630a</td>\n      <td>43c0b54f-ae06-4ee4-a144-a4414717b805</td>\n      <td>maneo</td>\n      <td>6/30/22 12:05</td>\n      <td>5.476711</td>\n      <td>43.476584</td>\n      <td>13120.0</td>\n      <td>Gardanne</td>\n      <td>True</td>\n      <td>True</td>\n    </tr>\n    <tr>\n      <th>4</th>\n      <td>111442</td>\n      <td>320342975.0</td>\n      <td>alain@daubier.com</td>\n      <td>Electromaps</td>\n      <td>ismael@electromaps.com</td>\n      <td>34 931 574 967</td>\n      <td>SAS La Tuiliere</td>\n      <td>FR000028067822</td>\n      <td>9d048374-0445-11ee-be56-0242ac120002</td>\n      <td>Carry-le-Rouet</td>\n      <td>...</td>\n      <td>647f1c6c5021d9b17af386e0</td>\n      <td>6cd2205b-5de7-4458-af56-7305e3170492</td>\n      <td>maneo</td>\n      <td>6/6/23 13:45</td>\n      <td>5.143766</td>\n      <td>43.329200</td>\n      <td>13620.0</td>\n      <td>Carry-le-Rouet</td>\n      <td>True</td>\n      <td>True</td>\n    </tr>\n    <tr>\n      <th>...</th>\n      <td>...</td>\n      <td>...</td>\n      <td>...</td>\n      <td>...</td>\n      <td>...</td>\n      <td>...</td>\n      <td>...</td>\n      <td>...</td>\n      <td>...</td>\n      <td>...</td>\n      <td>...</td>\n      <td>...</td>\n      <td>...</td>\n      <td>...</td>\n      <td>...</td>\n      <td>...</td>\n      <td>...</td>\n      <td>...</td>\n      <td>...</td>\n      <td>...</td>\n      <td>...</td>\n    </tr>\n    <tr>\n      <th>55641</th>\n      <td>TV MOSAIK</td>\n      <td>483048492.0</td>\n      <td>contact@mosaik-cristal.tv</td>\n      <td>FRESHMILE</td>\n      <td>web@freshmile.com</td>\n      <td>0369246732</td>\n      <td>TV MOSAIK CRISTAL</td>\n      <td>Non concerné</td>\n      <td>ec4b9d5d-0bf2-4aa4-b255-72308a3d4da4</td>\n      <td>TV MOSAIK CRISTAL</td>\n      <td>...</td>\n      <td>639056d1c202fa02eaa1ff55</td>\n      <td>b907dd9b-de1d-4cf0-a4b7-79d521e42dfc</td>\n      <td>tv-mosaik</td>\n      <td>12/7/22 11:03</td>\n      <td>7.083001</td>\n      <td>49.118010</td>\n      <td>57200.0</td>\n      <td>Sarreguemines</td>\n      <td>True</td>\n      <td>True</td>\n    </tr>\n    <tr>\n      <th>55642</th>\n      <td>OPTEOR IMMOTIC</td>\n      <td>552008914.0</td>\n      <td>seikou.diakho@vinci-facilities.com</td>\n      <td>FRESHMILE</td>\n      <td>exploitation@freshmile.com</td>\n      <td>0368781435</td>\n      <td>VINCI OPTEOR IMMOTIC</td>\n      <td>Non concerné</td>\n      <td>74547d48-2597-4024-a46c-2399260c18f4</td>\n      <td>VINCI OPTEOR IMMOTIC</td>\n      <td>...</td>\n      <td>632a5dfb63ac73f1a8a1f2b6</td>\n      <td>44831653-abf4-4dbe-85be-5f5419575592</td>\n      <td>vinci-facilities-travaux-associes</td>\n      <td>10/4/22 19:45</td>\n      <td>2.210000</td>\n      <td>48.910000</td>\n      <td>92000.0</td>\n      <td>Nanterre</td>\n      <td>True</td>\n      <td>True</td>\n    </tr>\n    <tr>\n      <th>55643</th>\n      <td>D2 FINANCES</td>\n      <td>801177528.0</td>\n      <td>laurent.specht@volta-sas.com</td>\n      <td>FRESHMILE</td>\n      <td>exploitation@freshmile.com</td>\n      <td>03 68 78 14 35</td>\n      <td>FRESHMILE</td>\n      <td>Non concerné</td>\n      <td>5aa39699-a74b-42e3-90ce-7167a52af169</td>\n      <td>D2 FINANCE</td>\n      <td>...</td>\n      <td>64245ebd6e4baad70489ac7d</td>\n      <td>d3e00e51-4f9d-4b9a-9d50-137fffa32221</td>\n      <td>volta-sas</td>\n      <td>3/29/23 19:52</td>\n      <td>4.970000</td>\n      <td>45.730000</td>\n      <td>69680.0</td>\n      <td>Chassieu</td>\n      <td>True</td>\n      <td>True</td>\n    </tr>\n    <tr>\n      <th>55644</th>\n      <td>WeeCharge</td>\n      <td>902305556.0</td>\n      <td>hello@weecharge.fr</td>\n      <td>WeeCharge</td>\n      <td>hello@weecharge.fr</td>\n      <td>0972649769</td>\n      <td>WeeCharge</td>\n      <td>Non concerné</td>\n      <td>d3c00913-8774-4df3-8c07-97b5c596db39</td>\n      <td>Montaigut Le Boulval</td>\n      <td>...</td>\n      <td>62b8fe4f19cc3f5741443bfa</td>\n      <td>a7b94bdd-3ba7-430f-bccb-0e33d93c1ff2</td>\n      <td>weecharge</td>\n      <td>6/27/22 4:48</td>\n      <td>2.806620</td>\n      <td>46.181509</td>\n      <td>63700.0</td>\n      <td>Montaigut-en-Combraille</td>\n      <td>True</td>\n      <td>True</td>\n    </tr>\n    <tr>\n      <th>55645</th>\n      <td>Aubélec</td>\n      <td>301213476.0</td>\n      <td>l.romei@aubelec.fr</td>\n      <td>Festilight</td>\n      <td>didier.maroilley@festilight.fr</td>\n      <td>0325832300</td>\n      <td>Festilight</td>\n      <td>Non concerné</td>\n      <td>FRWBCERCG0C2117D</td>\n      <td>Festilight 22D Bur</td>\n      <td>...</td>\n      <td>64799a4b25823abc2bd21f33</td>\n      <td>fb32b4a8-588f-408a-93d9-1e08e58570f9</td>\n      <td>wellborne</td>\n      <td>6/13/23 17:01</td>\n      <td>4.134836</td>\n      <td>48.300582</td>\n      <td>10410.0</td>\n      <td>Villechétif</td>\n      <td>True</td>\n      <td>True</td>\n    </tr>\n  </tbody>\n</table>\n<p>55646 rows × 51 columns</p>\n</div>"
     },
     "execution_count": 68,
     "metadata": {},
     "output_type": "execute_result"
    }
   ],
   "source": [
    "#Chargez le fichier CSV dans un DataFrame\n",
    "df_copy = pd.read_csv('data.csv')\n",
    "df = df_copy.copy()\n",
    "df"
   ],
   "metadata": {
    "collapsed": false,
    "ExecuteTime": {
     "end_time": "2023-11-01T10:58:10.858549500Z",
     "start_time": "2023-11-01T10:58:10.331505800Z"
    }
   },
   "id": "e8dcc43c3fd3ee33"
  },
  {
   "cell_type": "markdown",
   "source": [
    "Doublons"
   ],
   "metadata": {
    "collapsed": false
   },
   "id": "ae5be68daaebad0b"
  },
  {
   "cell_type": "code",
   "execution_count": 69,
   "outputs": [
    {
     "name": "stdout",
     "output_type": "stream",
     "text": [
      "Nombre total de doublons : 0\n",
      "Nombre de lignes supprimées : 0\n"
     ]
    }
   ],
   "source": [
    "# Compter les doublons en se basant sur l'ensemble des lignes\n",
    "doublons = df[df.duplicated(keep=\"first\")]\n",
    "\n",
    "# Compter le nombre de doublons\n",
    "nombre_de_doublons = len(doublons)\n",
    "\n",
    "print(f\"Nombre total de doublons : {nombre_de_doublons}\")\n",
    "\n",
    "df2 = df.drop_duplicates(keep='first')\n",
    "\n",
    "nombre_de_lignes_supprimees = len(df) - len(df2)\n",
    "print(f\"Nombre de lignes supprimées : {nombre_de_lignes_supprimees}\")\n",
    "\n",
    "df = df2"
   ],
   "metadata": {
    "collapsed": false,
    "ExecuteTime": {
     "end_time": "2023-11-01T10:58:11.230549500Z",
     "start_time": "2023-11-01T10:58:10.857045400Z"
    }
   },
   "id": "e444af59ab0ba356"
  },
  {
   "cell_type": "markdown",
   "source": [
    "Données null et vide et non conforme"
   ],
   "metadata": {
    "collapsed": false
   },
   "id": "c8747b31b9876aa9"
  },
  {
   "cell_type": "markdown",
   "source": [],
   "metadata": {
    "collapsed": false
   },
   "id": "f9bbfddd73a2603f"
  },
  {
   "cell_type": "code",
   "execution_count": 70,
   "outputs": [
    {
     "name": "stdout",
     "output_type": "stream",
     "text": [
      "Ligne supprimées : 55048 \n"
     ]
    }
   ],
   "source": [
    "# Définir une expression régulière pour vérifier le format d'une adresse e-mail\n",
    "email_pattern = r'\\b[A-Za-z0-9._%+-]+@[A-Za-z0-9.-]+\\.[A-Z|a-z]{2,7}\\b'\n",
    "coordonnees_pattern = r'\\[\\d+\\.\\d+,\\d+\\.\\d+\\]'\n",
    "\n",
    "\n",
    "dfBase = len(df)\n",
    "# Supprimer les lignes qui ne respectent pas les critères du référentiel\n",
    "df = df[df['nom_enseigne'].notna() &                             # Obligatoire\n",
    "        df['id_station_itinerance'].notna() &                   # Obligatoire\n",
    "        df['nom_station'].notna() &                             # Obligatoire\n",
    "        df['implantation_station'].notna() &                    # Obligatoire\n",
    "        df['adresse_station'].notna() &                         # Obligatoire\n",
    "        df['nbre_pdc'].notna() &                                # Obligatoire\n",
    "        df['id_pdc_itinerance'].notna() &                       # Obligatoire\n",
    "        df['puissance_nominale'].notna() &                      # Obligatoire\n",
    "        df['prise_type_ef'].notna() &                           # Obligatoire\n",
    "        df['prise_type_2'].notna() &                            # Obligatoire\n",
    "        df['prise_type_combo_ccs'].notna() &                    # Obligatoire\n",
    "        df['prise_type_chademo'].notna() &                      # Obligatoire\n",
    "        df['prise_type_autre'].notna() &                        # Obligatoire\n",
    "        df['paiement_acte'].notna() &                           # Obligatoire\n",
    "        df['paiement_cb'].notna() &                             # Obligatoire\n",
    "        df['tarification'].notna() &                           # Obligatoire\n",
    "        df['condition_acces'].notna() &                         # Obligatoire\n",
    "        df['reservation'].notna() &                            # Obligatoire\n",
    "        df['horaires'].notna() &                               # Obligatoire\n",
    "        df['accessibilite_pmr'].notna() &                      # Obligatoire\n",
    "        df['restriction_gabarit'].notna() &                    # Obligatoire\n",
    "        df['station_deux_roues'].notna() &                     # Obligatoire\n",
    "        df['raccordement'].notna() &                           # Obligatoire\n",
    "        df['num_pdl'].notna() &                                # Obligatoire\n",
    "        df['date_mise_en_service'].notna() &                   # Obligatoire\n",
    "        df['contact_operateur'].str.match(email_pattern, na=False) &   # Obligatoire, format email\n",
    "        df['contact_amenageur'].str.match(email_pattern, na=False) &   # Non obligatoire, format email\n",
    "        df['coordonneesXY'].str.match(coordonnees_pattern, na=False)]   # Obligatoire, format Array\n",
    "\n",
    "\n",
    "\n",
    "# Réindexer le DataFrame après la suppression\n",
    "df.reset_index(drop=True, inplace=True)\n",
    "print(f\"Ligne supprimées : {dfBase - len(df) } \")"
   ],
   "metadata": {
    "collapsed": false,
    "ExecuteTime": {
     "end_time": "2023-11-01T10:58:11.345027500Z",
     "start_time": "2023-11-01T10:58:11.235544400Z"
    }
   },
   "id": "34ebc2026d1a2688"
  },
  {
   "cell_type": "markdown",
   "source": [
    "Calcul final"
   ],
   "metadata": {
    "collapsed": false
   },
   "id": "626619b6d27e1969"
  },
  {
   "cell_type": "code",
   "execution_count": 71,
   "outputs": [
    {
     "name": "stdout",
     "output_type": "stream",
     "text": [
      "% de données correctes : {1.0746504690364087} %\n"
     ]
    },
    {
     "data": {
      "text/plain": "           nom_amenageur  siren_amenageur              contact_amenageur  \\\n0                 Acelec      301192464.0       acelec@acelec-france.com   \n1                 Acelec      301192464.0       acelec@acelec-france.com   \n2                 Acelec      301192464.0       acelec@acelec-france.com   \n3                 Acelec      301192464.0       acelec@acelec-france.com   \n4                 Acelec      301192464.0       acelec@acelec-france.com   \n..                   ...              ...                            ...   \n593         Sud Camargue      802393371.0            info@sudcamargue.fr   \n594    SCI LES RUISSEAUX      530787852.0            marc@fiskagroup.com   \n595    Société Sigma Tec      487923724.0           contact@sigma-tec.fr   \n596  ESPACE AUTO COURNON      490391620.0    espaceautocournon@orange.fr   \n597  Thibal Distribution      509605184.0  sdavid@thibal-distribution.fr   \n\n           nom_operateur              contact_operateur telephone_operateur  \\\n0          Acelec Charge       acelec@acelec-france.com      01 81 73 03 50   \n1          Acelec Charge       acelec@acelec-france.com      01 81 73 03 50   \n2          Acelec Charge       acelec@acelec-france.com      01 81 73 03 50   \n3          Acelec Charge       acelec@acelec-france.com      01 81 73 03 50   \n4          Acelec Charge       acelec@acelec-france.com      01 81 73 03 50   \n..                   ...                            ...                 ...   \n593         Sud Camargue            info@sudcamargue.fr          0689198608   \n594    SCI LES RUISSEAUX            marc@fiskagroup.com          0387885670   \n595    Société Sigma Tec           contact@sigma-tec.fr          0681375294   \n596  ESPACE AUTO COURNON    espaceautocournon@orange.fr          0473848307   \n597  Thibal Distribution  sdavid@thibal-distribution.fr          0565490240   \n\n                       nom_enseigne id_station_itinerance  \\\n0                    Camaïeu France       FR073PCAMAIEUFR   \n1                    Camaïeu France       FR073PCAMAIEUFR   \n2                    Camaïeu France       FR073PCAMAIEUFR   \n3                    Camaïeu France       FR073PCAMAIEUFR   \n4                    Camaïeu France       FR073PCAMAIEUFR   \n..                              ...                   ...   \n593  Borne de recharge Sud Camargue          Non concerné   \n594               SCI LES RUISSEAUX          Non concerné   \n595                       Sigma Tec          Non concerné   \n596             ESPACE AUTO COURNON          Non concerné   \n597      Borne de recharge gratuite          Non concerné   \n\n                         id_station_local  \\\n0                                     NaN   \n1                                     NaN   \n2                                     NaN   \n3                                     NaN   \n4                                     NaN   \n..                                    ...   \n593  f0563af9-5bb6-48ef-9982-2d8a8b00639c   \n594  7dcef345-7d8a-4753-ae4e-7b3d88d68dfb   \n595  cf782f10-bbbb-4e11-a7ed-083cc0459cd7   \n596            01FEJX4YZEHDSET14TRKNSJJ2C   \n597  868b9791-607e-4ba5-be0a-612b37168a56   \n\n                                           nom_station  ...  \\\n0                                       CAMAÏEU FRANCE  ...   \n1                                       CAMAÏEU FRANCE  ...   \n2                                       CAMAÏEU FRANCE  ...   \n3                                       CAMAÏEU FRANCE  ...   \n4                                       CAMAÏEU FRANCE  ...   \n..                                                 ...  ...   \n593          Borne de recharge Sud Camargue Lunel Viel  ...   \n594                                  SCI LES RUISSEAUX  ...   \n595                                 Borne-Garage-Rossi  ...   \n596                                ESPACE AUTO COURNON  ...   \n597  Saint-Affrique - Thibal Distribution - recharg...  ...   \n\n          datagouv_dataset_id                  datagouv_resource_id  \\\n0    6206751195a42c8cc3c1c5fa  70dde2a8-8498-4c8a-a28a-6e23631be45f   \n1    6206751195a42c8cc3c1c5fa  70dde2a8-8498-4c8a-a28a-6e23631be45f   \n2    6206751195a42c8cc3c1c5fa  70dde2a8-8498-4c8a-a28a-6e23631be45f   \n3    6206751195a42c8cc3c1c5fa  70dde2a8-8498-4c8a-a28a-6e23631be45f   \n4    6206751195a42c8cc3c1c5fa  70dde2a8-8498-4c8a-a28a-6e23631be45f   \n..                        ...                                   ...   \n593  64871d67e416730eb500141f  f0d663e1-f844-43c5-9357-1914fce2e286   \n594  632d8e34a95ea99311c42a76  189f0789-a8da-47f3-9dbe-c8d5fb185a1e   \n595  62cd9b6ef269a1a93a803dbd  e211803c-a75a-4a2f-b8df-ae9dac803439   \n596  614305ca6e0cbbee72684a05  beb9d6db-09eb-4306-854d-b59c36a3f2f5   \n597  62325d661445739bdebfc6b6  9346ec22-dcf8-44fb-bf59-596028ed4566   \n\n    datagouv_organization_or_owner     created_at  consolidated_longitude  \\\n0                    acelec-charge  7/21/22 16:36                3.207306   \n1                    acelec-charge  7/21/22 16:36                3.207246   \n2                    acelec-charge  7/21/22 16:36                3.207124   \n3                    acelec-charge  7/21/22 16:36                3.207370   \n4                    acelec-charge  7/21/22 16:36                3.207306   \n..                             ...            ...                     ...   \n593              sanou-electricite  6/12/23 15:28                4.080000   \n594              sci-les-ruisseaux  9/23/22 14:45                6.820000   \n595                      sigma-tec  7/12/22 20:03                5.720000   \n596              systemes-solaires  9/16/21 12:52                3.190000   \n597            thibal-distribution  3/16/22 23:58                2.860000   \n\n    consolidated_latitude consolidated_code_postal  consolidated_commune  \\\n0               50.684918                  59100.0               Roubaix   \n1               50.684940                  59100.0               Roubaix   \n2               50.684984                  59100.0               Roubaix   \n3               50.684898                  59100.0               Roubaix   \n4               50.684918                  59100.0               Roubaix   \n..                    ...                      ...                   ...   \n593             43.680000                  34400.0            Lunel-Viel   \n594             49.130000                  57800.0               Betting   \n595             45.510000                  73520.0           Saint-Béron   \n596             45.730000                  63800.0    Cournon-d'Auvergne   \n597             43.960000                  12400.0        Saint-Affrique   \n\n    consolidated_is_lon_lat_correct consolidated_is_code_insee_verified  \n0                              True                                True  \n1                              True                                True  \n2                              True                                True  \n3                              True                                True  \n4                              True                                True  \n..                              ...                                 ...  \n593                            True                                True  \n594                            True                                True  \n595                            True                                True  \n596                            True                                True  \n597                            True                                True  \n\n[598 rows x 51 columns]",
      "text/html": "<div>\n<style scoped>\n    .dataframe tbody tr th:only-of-type {\n        vertical-align: middle;\n    }\n\n    .dataframe tbody tr th {\n        vertical-align: top;\n    }\n\n    .dataframe thead th {\n        text-align: right;\n    }\n</style>\n<table border=\"1\" class=\"dataframe\">\n  <thead>\n    <tr style=\"text-align: right;\">\n      <th></th>\n      <th>nom_amenageur</th>\n      <th>siren_amenageur</th>\n      <th>contact_amenageur</th>\n      <th>nom_operateur</th>\n      <th>contact_operateur</th>\n      <th>telephone_operateur</th>\n      <th>nom_enseigne</th>\n      <th>id_station_itinerance</th>\n      <th>id_station_local</th>\n      <th>nom_station</th>\n      <th>...</th>\n      <th>datagouv_dataset_id</th>\n      <th>datagouv_resource_id</th>\n      <th>datagouv_organization_or_owner</th>\n      <th>created_at</th>\n      <th>consolidated_longitude</th>\n      <th>consolidated_latitude</th>\n      <th>consolidated_code_postal</th>\n      <th>consolidated_commune</th>\n      <th>consolidated_is_lon_lat_correct</th>\n      <th>consolidated_is_code_insee_verified</th>\n    </tr>\n  </thead>\n  <tbody>\n    <tr>\n      <th>0</th>\n      <td>Acelec</td>\n      <td>301192464.0</td>\n      <td>acelec@acelec-france.com</td>\n      <td>Acelec Charge</td>\n      <td>acelec@acelec-france.com</td>\n      <td>01 81 73 03 50</td>\n      <td>Camaïeu France</td>\n      <td>FR073PCAMAIEUFR</td>\n      <td>NaN</td>\n      <td>CAMAÏEU FRANCE</td>\n      <td>...</td>\n      <td>6206751195a42c8cc3c1c5fa</td>\n      <td>70dde2a8-8498-4c8a-a28a-6e23631be45f</td>\n      <td>acelec-charge</td>\n      <td>7/21/22 16:36</td>\n      <td>3.207306</td>\n      <td>50.684918</td>\n      <td>59100.0</td>\n      <td>Roubaix</td>\n      <td>True</td>\n      <td>True</td>\n    </tr>\n    <tr>\n      <th>1</th>\n      <td>Acelec</td>\n      <td>301192464.0</td>\n      <td>acelec@acelec-france.com</td>\n      <td>Acelec Charge</td>\n      <td>acelec@acelec-france.com</td>\n      <td>01 81 73 03 50</td>\n      <td>Camaïeu France</td>\n      <td>FR073PCAMAIEUFR</td>\n      <td>NaN</td>\n      <td>CAMAÏEU FRANCE</td>\n      <td>...</td>\n      <td>6206751195a42c8cc3c1c5fa</td>\n      <td>70dde2a8-8498-4c8a-a28a-6e23631be45f</td>\n      <td>acelec-charge</td>\n      <td>7/21/22 16:36</td>\n      <td>3.207246</td>\n      <td>50.684940</td>\n      <td>59100.0</td>\n      <td>Roubaix</td>\n      <td>True</td>\n      <td>True</td>\n    </tr>\n    <tr>\n      <th>2</th>\n      <td>Acelec</td>\n      <td>301192464.0</td>\n      <td>acelec@acelec-france.com</td>\n      <td>Acelec Charge</td>\n      <td>acelec@acelec-france.com</td>\n      <td>01 81 73 03 50</td>\n      <td>Camaïeu France</td>\n      <td>FR073PCAMAIEUFR</td>\n      <td>NaN</td>\n      <td>CAMAÏEU FRANCE</td>\n      <td>...</td>\n      <td>6206751195a42c8cc3c1c5fa</td>\n      <td>70dde2a8-8498-4c8a-a28a-6e23631be45f</td>\n      <td>acelec-charge</td>\n      <td>7/21/22 16:36</td>\n      <td>3.207124</td>\n      <td>50.684984</td>\n      <td>59100.0</td>\n      <td>Roubaix</td>\n      <td>True</td>\n      <td>True</td>\n    </tr>\n    <tr>\n      <th>3</th>\n      <td>Acelec</td>\n      <td>301192464.0</td>\n      <td>acelec@acelec-france.com</td>\n      <td>Acelec Charge</td>\n      <td>acelec@acelec-france.com</td>\n      <td>01 81 73 03 50</td>\n      <td>Camaïeu France</td>\n      <td>FR073PCAMAIEUFR</td>\n      <td>NaN</td>\n      <td>CAMAÏEU FRANCE</td>\n      <td>...</td>\n      <td>6206751195a42c8cc3c1c5fa</td>\n      <td>70dde2a8-8498-4c8a-a28a-6e23631be45f</td>\n      <td>acelec-charge</td>\n      <td>7/21/22 16:36</td>\n      <td>3.207370</td>\n      <td>50.684898</td>\n      <td>59100.0</td>\n      <td>Roubaix</td>\n      <td>True</td>\n      <td>True</td>\n    </tr>\n    <tr>\n      <th>4</th>\n      <td>Acelec</td>\n      <td>301192464.0</td>\n      <td>acelec@acelec-france.com</td>\n      <td>Acelec Charge</td>\n      <td>acelec@acelec-france.com</td>\n      <td>01 81 73 03 50</td>\n      <td>Camaïeu France</td>\n      <td>FR073PCAMAIEUFR</td>\n      <td>NaN</td>\n      <td>CAMAÏEU FRANCE</td>\n      <td>...</td>\n      <td>6206751195a42c8cc3c1c5fa</td>\n      <td>70dde2a8-8498-4c8a-a28a-6e23631be45f</td>\n      <td>acelec-charge</td>\n      <td>7/21/22 16:36</td>\n      <td>3.207306</td>\n      <td>50.684918</td>\n      <td>59100.0</td>\n      <td>Roubaix</td>\n      <td>True</td>\n      <td>True</td>\n    </tr>\n    <tr>\n      <th>...</th>\n      <td>...</td>\n      <td>...</td>\n      <td>...</td>\n      <td>...</td>\n      <td>...</td>\n      <td>...</td>\n      <td>...</td>\n      <td>...</td>\n      <td>...</td>\n      <td>...</td>\n      <td>...</td>\n      <td>...</td>\n      <td>...</td>\n      <td>...</td>\n      <td>...</td>\n      <td>...</td>\n      <td>...</td>\n      <td>...</td>\n      <td>...</td>\n      <td>...</td>\n      <td>...</td>\n    </tr>\n    <tr>\n      <th>593</th>\n      <td>Sud Camargue</td>\n      <td>802393371.0</td>\n      <td>info@sudcamargue.fr</td>\n      <td>Sud Camargue</td>\n      <td>info@sudcamargue.fr</td>\n      <td>0689198608</td>\n      <td>Borne de recharge Sud Camargue</td>\n      <td>Non concerné</td>\n      <td>f0563af9-5bb6-48ef-9982-2d8a8b00639c</td>\n      <td>Borne de recharge Sud Camargue Lunel Viel</td>\n      <td>...</td>\n      <td>64871d67e416730eb500141f</td>\n      <td>f0d663e1-f844-43c5-9357-1914fce2e286</td>\n      <td>sanou-electricite</td>\n      <td>6/12/23 15:28</td>\n      <td>4.080000</td>\n      <td>43.680000</td>\n      <td>34400.0</td>\n      <td>Lunel-Viel</td>\n      <td>True</td>\n      <td>True</td>\n    </tr>\n    <tr>\n      <th>594</th>\n      <td>SCI LES RUISSEAUX</td>\n      <td>530787852.0</td>\n      <td>marc@fiskagroup.com</td>\n      <td>SCI LES RUISSEAUX</td>\n      <td>marc@fiskagroup.com</td>\n      <td>0387885670</td>\n      <td>SCI LES RUISSEAUX</td>\n      <td>Non concerné</td>\n      <td>7dcef345-7d8a-4753-ae4e-7b3d88d68dfb</td>\n      <td>SCI LES RUISSEAUX</td>\n      <td>...</td>\n      <td>632d8e34a95ea99311c42a76</td>\n      <td>189f0789-a8da-47f3-9dbe-c8d5fb185a1e</td>\n      <td>sci-les-ruisseaux</td>\n      <td>9/23/22 14:45</td>\n      <td>6.820000</td>\n      <td>49.130000</td>\n      <td>57800.0</td>\n      <td>Betting</td>\n      <td>True</td>\n      <td>True</td>\n    </tr>\n    <tr>\n      <th>595</th>\n      <td>Société Sigma Tec</td>\n      <td>487923724.0</td>\n      <td>contact@sigma-tec.fr</td>\n      <td>Société Sigma Tec</td>\n      <td>contact@sigma-tec.fr</td>\n      <td>0681375294</td>\n      <td>Sigma Tec</td>\n      <td>Non concerné</td>\n      <td>cf782f10-bbbb-4e11-a7ed-083cc0459cd7</td>\n      <td>Borne-Garage-Rossi</td>\n      <td>...</td>\n      <td>62cd9b6ef269a1a93a803dbd</td>\n      <td>e211803c-a75a-4a2f-b8df-ae9dac803439</td>\n      <td>sigma-tec</td>\n      <td>7/12/22 20:03</td>\n      <td>5.720000</td>\n      <td>45.510000</td>\n      <td>73520.0</td>\n      <td>Saint-Béron</td>\n      <td>True</td>\n      <td>True</td>\n    </tr>\n    <tr>\n      <th>596</th>\n      <td>ESPACE AUTO COURNON</td>\n      <td>490391620.0</td>\n      <td>espaceautocournon@orange.fr</td>\n      <td>ESPACE AUTO COURNON</td>\n      <td>espaceautocournon@orange.fr</td>\n      <td>0473848307</td>\n      <td>ESPACE AUTO COURNON</td>\n      <td>Non concerné</td>\n      <td>01FEJX4YZEHDSET14TRKNSJJ2C</td>\n      <td>ESPACE AUTO COURNON</td>\n      <td>...</td>\n      <td>614305ca6e0cbbee72684a05</td>\n      <td>beb9d6db-09eb-4306-854d-b59c36a3f2f5</td>\n      <td>systemes-solaires</td>\n      <td>9/16/21 12:52</td>\n      <td>3.190000</td>\n      <td>45.730000</td>\n      <td>63800.0</td>\n      <td>Cournon-d'Auvergne</td>\n      <td>True</td>\n      <td>True</td>\n    </tr>\n    <tr>\n      <th>597</th>\n      <td>Thibal Distribution</td>\n      <td>509605184.0</td>\n      <td>sdavid@thibal-distribution.fr</td>\n      <td>Thibal Distribution</td>\n      <td>sdavid@thibal-distribution.fr</td>\n      <td>0565490240</td>\n      <td>Borne de recharge gratuite</td>\n      <td>Non concerné</td>\n      <td>868b9791-607e-4ba5-be0a-612b37168a56</td>\n      <td>Saint-Affrique - Thibal Distribution - recharg...</td>\n      <td>...</td>\n      <td>62325d661445739bdebfc6b6</td>\n      <td>9346ec22-dcf8-44fb-bf59-596028ed4566</td>\n      <td>thibal-distribution</td>\n      <td>3/16/22 23:58</td>\n      <td>2.860000</td>\n      <td>43.960000</td>\n      <td>12400.0</td>\n      <td>Saint-Affrique</td>\n      <td>True</td>\n      <td>True</td>\n    </tr>\n  </tbody>\n</table>\n<p>598 rows × 51 columns</p>\n</div>"
     },
     "execution_count": 71,
     "metadata": {},
     "output_type": "execute_result"
    }
   ],
   "source": [
    "\n",
    "total = {len(df) * 100 / len(df_copy)}\n",
    "\n",
    "\n",
    "print(f\"% de données correctes : {total} %\")\n",
    "df"
   ],
   "metadata": {
    "collapsed": false,
    "ExecuteTime": {
     "end_time": "2023-11-01T10:58:11.361184100Z",
     "start_time": "2023-11-01T10:58:11.340763Z"
    }
   },
   "id": "cddb2c618ef987b"
  },
  {
   "cell_type": "code",
   "execution_count": 71,
   "outputs": [],
   "source": [],
   "metadata": {
    "collapsed": false,
    "ExecuteTime": {
     "end_time": "2023-11-01T10:58:11.361184100Z",
     "start_time": "2023-11-01T10:58:11.357148700Z"
    }
   },
   "id": "bbed1a8626887c6c"
  }
 ],
 "metadata": {
  "kernelspec": {
   "display_name": "Python 3",
   "language": "python",
   "name": "python3"
  },
  "language_info": {
   "codemirror_mode": {
    "name": "ipython",
    "version": 2
   },
   "file_extension": ".py",
   "mimetype": "text/x-python",
   "name": "python",
   "nbconvert_exporter": "python",
   "pygments_lexer": "ipython2",
   "version": "2.7.6"
  }
 },
 "nbformat": 4,
 "nbformat_minor": 5
}
